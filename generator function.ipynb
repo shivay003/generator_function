{
 "cells": [
  {
   "cell_type": "code",
   "execution_count": 2,
   "id": "00cbdcae-940a-431d-8f93-d6e62ba43157",
   "metadata": {},
   "outputs": [],
   "source": [
    "def test_fib(n):\n",
    "    a,b = 0,1\n",
    "    for i in range(n):\n",
    "        yield a\n",
    "        a,b = b,a+b"
   ]
  },
  {
   "cell_type": "code",
   "execution_count": 4,
   "id": "0ce5b294-8d8e-4ad7-b8ff-1cb9cdc2fce9",
   "metadata": {},
   "outputs": [
    {
     "data": {
      "text/plain": [
       "<generator object test_fib at 0x7f58d39ad540>"
      ]
     },
     "execution_count": 4,
     "metadata": {},
     "output_type": "execute_result"
    }
   ],
   "source": [
    "test_fib(10)"
   ]
  },
  {
   "cell_type": "code",
   "execution_count": 7,
   "id": "48142a40-9bdd-43c5-b0b1-a48201699699",
   "metadata": {},
   "outputs": [
    {
     "name": "stdout",
     "output_type": "stream",
     "text": [
      "0\n",
      "1\n",
      "1\n",
      "2\n",
      "3\n",
      "5\n",
      "8\n",
      "13\n",
      "21\n",
      "34\n"
     ]
    }
   ],
   "source": [
    "for i in test_fib(10):\n",
    "    print (i)"
   ]
  },
  {
   "cell_type": "code",
   "execution_count": 8,
   "id": "ca8e880d-5210-4c2b-9aa7-dbe761b8c6c6",
   "metadata": {},
   "outputs": [],
   "source": [
    "def test_fib1():\n",
    "    a,b = 0,1\n",
    "    while True :\n",
    "        yield a\n",
    "        a,b = b,a+b"
   ]
  },
  {
   "cell_type": "code",
   "execution_count": 9,
   "id": "5e368c85-46dd-4ded-be59-257bd58a0770",
   "metadata": {},
   "outputs": [],
   "source": [
    "fib = test_fib1()"
   ]
  },
  {
   "cell_type": "code",
   "execution_count": 11,
   "id": "19699752-6135-415a-be5a-ba38a183cc9f",
   "metadata": {},
   "outputs": [
    {
     "name": "stdout",
     "output_type": "stream",
     "text": [
      "0\n",
      "1\n",
      "1\n",
      "2\n",
      "3\n",
      "5\n",
      "8\n",
      "13\n",
      "21\n",
      "34\n"
     ]
    }
   ],
   "source": [
    "for i in range(10):\n",
    "    print(next(fib))"
   ]
  },
  {
   "cell_type": "code",
   "execution_count": null,
   "id": "e4ebd8c6-d913-4e7f-bdf8-16aeee0a53ab",
   "metadata": {},
   "outputs": [],
   "source": []
  },
  {
   "cell_type": "code",
   "execution_count": 12,
   "id": "c911d562-41d2-42d8-857f-8036dd279424",
   "metadata": {},
   "outputs": [],
   "source": [
    "s = \"akash\""
   ]
  },
  {
   "cell_type": "code",
   "execution_count": 13,
   "id": "a28af127-0430-44a5-bd7b-5a56b16855e3",
   "metadata": {},
   "outputs": [
    {
     "name": "stdout",
     "output_type": "stream",
     "text": [
      "a\n",
      "k\n",
      "a\n",
      "s\n",
      "h\n"
     ]
    }
   ],
   "source": [
    "for i in s:\n",
    "    print (i)"
   ]
  },
  {
   "cell_type": "code",
   "execution_count": 14,
   "id": "c16d8cc0-f409-4fb7-9499-28db3526b060",
   "metadata": {},
   "outputs": [
    {
     "ename": "TypeError",
     "evalue": "'str' object is not an iterator",
     "output_type": "error",
     "traceback": [
      "\u001b[0;31m---------------------------------------------------------------------------\u001b[0m",
      "\u001b[0;31mTypeError\u001b[0m                                 Traceback (most recent call last)",
      "Cell \u001b[0;32mIn[14], line 1\u001b[0m\n\u001b[0;32m----> 1\u001b[0m \u001b[38;5;28;43mnext\u001b[39;49m\u001b[43m \u001b[49m\u001b[43m(\u001b[49m\u001b[43ms\u001b[49m\u001b[43m)\u001b[49m\n",
      "\u001b[0;31mTypeError\u001b[0m: 'str' object is not an iterator"
     ]
    }
   ],
   "source": [
    "next (s)"
   ]
  },
  {
   "cell_type": "markdown",
   "id": "9b7c4e37-fef7-4efc-8acd-bf6d079b5e17",
   "metadata": {},
   "source": [
    "string object is not an iterator means its not through one by one  "
   ]
  },
  {
   "cell_type": "code",
   "execution_count": 17,
   "id": "5e054468-838a-44b0-a00d-d6a8d79f4caf",
   "metadata": {},
   "outputs": [],
   "source": [
    "s1 = iter (s)"
   ]
  },
  {
   "cell_type": "code",
   "execution_count": 18,
   "id": "eeaf1a53-d6d6-4e65-9c0c-92023bb62b0b",
   "metadata": {},
   "outputs": [
    {
     "data": {
      "text/plain": [
       "'a'"
      ]
     },
     "execution_count": 18,
     "metadata": {},
     "output_type": "execute_result"
    }
   ],
   "source": [
    "next (s1)"
   ]
  },
  {
   "cell_type": "code",
   "execution_count": 19,
   "id": "ed3227aa-3bb1-47d2-99ec-e5ce8b7b4790",
   "metadata": {},
   "outputs": [
    {
     "data": {
      "text/plain": [
       "'k'"
      ]
     },
     "execution_count": 19,
     "metadata": {},
     "output_type": "execute_result"
    }
   ],
   "source": [
    "next (s1)"
   ]
  },
  {
   "cell_type": "code",
   "execution_count": 20,
   "id": "a3f5bb4d-44fa-4e33-81d3-9433ac599347",
   "metadata": {},
   "outputs": [
    {
     "data": {
      "text/plain": [
       "'a'"
      ]
     },
     "execution_count": 20,
     "metadata": {},
     "output_type": "execute_result"
    }
   ],
   "source": [
    "next (s1)"
   ]
  },
  {
   "cell_type": "code",
   "execution_count": 21,
   "id": "ec464e0a-7679-413c-af42-575702af34b5",
   "metadata": {},
   "outputs": [
    {
     "data": {
      "text/plain": [
       "'s'"
      ]
     },
     "execution_count": 21,
     "metadata": {},
     "output_type": "execute_result"
    }
   ],
   "source": [
    "next (s1)"
   ]
  },
  {
   "cell_type": "code",
   "execution_count": 22,
   "id": "132163a9-e419-4845-a1f2-9b73d489b1bb",
   "metadata": {},
   "outputs": [
    {
     "data": {
      "text/plain": [
       "'h'"
      ]
     },
     "execution_count": 22,
     "metadata": {},
     "output_type": "execute_result"
    }
   ],
   "source": [
    "next (s1)"
   ]
  },
  {
   "cell_type": "code",
   "execution_count": 23,
   "id": "409781f0-3352-415e-8cb3-73eae60577cd",
   "metadata": {},
   "outputs": [
    {
     "ename": "StopIteration",
     "evalue": "",
     "output_type": "error",
     "traceback": [
      "\u001b[0;31m---------------------------------------------------------------------------\u001b[0m",
      "\u001b[0;31mStopIteration\u001b[0m                             Traceback (most recent call last)",
      "Cell \u001b[0;32mIn[23], line 1\u001b[0m\n\u001b[0;32m----> 1\u001b[0m \u001b[38;5;28;43mnext\u001b[39;49m\u001b[43m \u001b[49m\u001b[43m(\u001b[49m\u001b[43ms1\u001b[49m\u001b[43m)\u001b[49m\n",
      "\u001b[0;31mStopIteration\u001b[0m: "
     ]
    }
   ],
   "source": [
    "next (s1)"
   ]
  },
  {
   "cell_type": "code",
   "execution_count": 11,
   "id": "bc328b36-b559-42fd-860f-57c5e365379c",
   "metadata": {},
   "outputs": [],
   "source": [
    "def count_test (n):\n",
    "    count =1\n",
    "    while count<n:\n",
    "        yield count\n",
    "        count = count +1"
   ]
  },
  {
   "cell_type": "code",
   "execution_count": 12,
   "id": "a2cf911c-72cc-47fc-82ab-af52c3c68b4f",
   "metadata": {},
   "outputs": [],
   "source": [
    "c = count_test(5)"
   ]
  },
  {
   "cell_type": "code",
   "execution_count": 13,
   "id": "3e19d308-a329-40a6-8b99-254e7b180462",
   "metadata": {},
   "outputs": [
    {
     "name": "stdout",
     "output_type": "stream",
     "text": [
      "1\n",
      "2\n",
      "3\n",
      "4\n"
     ]
    }
   ],
   "source": [
    "for i in c:\n",
    "    print (i)"
   ]
  },
  {
   "cell_type": "code",
   "execution_count": null,
   "id": "4f26e075-9006-4742-bb04-61b7efb4b59c",
   "metadata": {},
   "outputs": [],
   "source": []
  }
 ],
 "metadata": {
  "kernelspec": {
   "display_name": "Python 3 (ipykernel)",
   "language": "python",
   "name": "python3"
  },
  "language_info": {
   "codemirror_mode": {
    "name": "ipython",
    "version": 3
   },
   "file_extension": ".py",
   "mimetype": "text/x-python",
   "name": "python",
   "nbconvert_exporter": "python",
   "pygments_lexer": "ipython3",
   "version": "3.10.8"
  }
 },
 "nbformat": 4,
 "nbformat_minor": 5
}
